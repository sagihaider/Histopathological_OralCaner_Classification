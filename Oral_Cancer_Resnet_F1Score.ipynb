{
  "nbformat": 4,
  "nbformat_minor": 0,
  "metadata": {
    "colab": {
      "name": "Oral_Cancer_Resnet_F1Score.ipynb",
      "provenance": [],
      "collapsed_sections": [],
      "machine_shape": "hm",
      "include_colab_link": true
    },
    "kernelspec": {
      "name": "python3",
      "display_name": "Python 3"
    },
    "language_info": {
      "name": "python"
    },
    "accelerator": "GPU"
  },
  "cells": [
    {
      "cell_type": "markdown",
      "metadata": {
        "id": "view-in-github",
        "colab_type": "text"
      },
      "source": [
        "<a href=\"https://colab.research.google.com/github/sagihaider/Histopathological_OralCaner_Classification/blob/main/Oral_Cancer_Resnet_F1Score.ipynb\" target=\"_parent\"><img src=\"https://colab.research.google.com/assets/colab-badge.svg\" alt=\"Open In Colab\"/></a>"
      ]
    },
    {
      "cell_type": "code",
      "execution_count": null,
      "metadata": {
        "id": "XQxvzm01g2NL",
        "colab": {
          "base_uri": "https://localhost:8080/"
        },
        "outputId": "72a39584-0126-4125-dcf6-a594a0ec3699"
      },
      "outputs": [
        {
          "output_type": "stream",
          "name": "stdout",
          "text": [
            "Mounted at /content/drive\n"
          ]
        }
      ],
      "source": [
        "from google.colab import drive\n",
        "import os\n",
        "drive.mount('/content/drive')"
      ]
    },
    {
      "cell_type": "code",
      "source": [
        "# base_dir = '/content/drive/MyDrive/Colab Notebooks/Oral Cancer Classification/CancerData' # Sriramya Link\n",
        "base_dir = '/content/drive/MyDrive/Data/Oral Cancer Classification/CancerData'\n",
        "train_dir = os.path.join(base_dir, 'train')\n",
        "validation_dir = os.path.join(base_dir, 'validation')"
      ],
      "metadata": {
        "id": "wyDs5t2jg9o8"
      },
      "execution_count": null,
      "outputs": []
    },
    {
      "cell_type": "code",
      "source": [
        "import tensorflow as tf\n",
        "from tensorflow.keras.preprocessing.image import ImageDataGenerator\n",
        "\n",
        "datagen=ImageDataGenerator(preprocessing_function=tf.keras.applications.inception_resnet_v2.preprocess_input, \n",
        "                           rotation_range=180,\n",
        "                           width_shift_range=0.1,\n",
        "                           height_shift_range=0.1,\n",
        "                           zoom_range=0.1,\n",
        "                           horizontal_flip=True,\n",
        "                           vertical_flip=True,\n",
        "                           fill_mode='nearest',\n",
        ")\n",
        "image_size = 224\n",
        "batch_size = 16\n",
        "\n",
        "print(\"\\nTrain Batches: \")\n",
        "train_batches = datagen.flow_from_directory(directory=train_dir,\n",
        "                                            target_size=(image_size,image_size),\n",
        "                                            batch_size=batch_size,\n",
        "                                            class_mode='binary',\n",
        "                                            shuffle=True)\n",
        "\n",
        "print(\"\\nTest Batches: \")\n",
        "test_batches =datagen.flow_from_directory(validation_dir,\n",
        "                                           target_size=(image_size,image_size),\n",
        "                                           batch_size=batch_size,                                         \n",
        "                                           class_mode='binary',\n",
        "                                           shuffle=False)"
      ],
      "metadata": {
        "id": "_YqvEsUGhFcc",
        "colab": {
          "base_uri": "https://localhost:8080/"
        },
        "outputId": "06b055d1-ae41-43b9-f7c0-2a9f7dc0f066"
      },
      "execution_count": null,
      "outputs": [
        {
          "output_type": "stream",
          "name": "stdout",
          "text": [
            "\n",
            "Train Batches: \n",
            "Found 520 images belonging to 2 classes.\n",
            "\n",
            "Test Batches: \n",
            "Found 180 images belonging to 2 classes.\n"
          ]
        }
      ]
    },
    {
      "cell_type": "code",
      "source": [
        "#Soft Attention\n",
        "\n",
        "from keras import backend as K\n",
        "from keras.layers import Layer,InputSpec\n",
        "import keras.layers as kl\n",
        "import tensorflow as tf\n",
        "\n",
        "class SoftAttention(Layer):\n",
        "    def __init__(self,ch,m,concat_with_x=False,aggregate=False,**kwargs):\n",
        "        self.channels=int(ch)\n",
        "        self.multiheads = m\n",
        "        self.aggregate_channels = aggregate\n",
        "        self.concat_input_with_scaled = concat_with_x\n",
        "        super(SoftAttention,self).__init__(**kwargs)\n",
        "\n",
        "    def build(self,input_shape):\n",
        "\n",
        "        self.i_shape = input_shape\n",
        "\n",
        "        kernel_shape_conv3d = (self.channels, 3, 3) + (1, self.multiheads) # DHWC\n",
        "    \n",
        "        self.out_attention_maps_shape = input_shape[0:1]+(self.multiheads,)+input_shape[1:-1]\n",
        "        \n",
        "        if self.aggregate_channels==False:\n",
        "\n",
        "            self.out_features_shape = input_shape[:-1]+(input_shape[-1]+(input_shape[-1]*self.multiheads),)\n",
        "        else:\n",
        "            if self.concat_input_with_scaled:\n",
        "                self.out_features_shape = input_shape[:-1]+(input_shape[-1]*2,)\n",
        "            else:\n",
        "                self.out_features_shape = input_shape\n",
        "        \n",
        "\n",
        "        self.kernel_conv3d = self.add_weight(shape=kernel_shape_conv3d,\n",
        "                                        initializer='he_uniform',\n",
        "                                        name='kernel_conv3d')\n",
        "        self.bias_conv3d = self.add_weight(shape=(self.multiheads,),\n",
        "                                      initializer='zeros',\n",
        "                                      name='bias_conv3d')\n",
        "\n",
        "        super(SoftAttention, self).build(input_shape)\n",
        "\n",
        "    def call(self, x):\n",
        "\n",
        "        exp_x = K.expand_dims(x,axis=-1)\n",
        "\n",
        "        c3d = K.conv3d(exp_x,\n",
        "                     kernel=self.kernel_conv3d,\n",
        "                     strides=(1,1,self.i_shape[-1]), padding='same', data_format='channels_last')\n",
        "        conv3d = K.bias_add(c3d,\n",
        "                        self.bias_conv3d)\n",
        "        conv3d = kl.Activation('relu')(conv3d)\n",
        "\n",
        "        conv3d = K.permute_dimensions(conv3d,pattern=(0,4,1,2,3))\n",
        "\n",
        "        \n",
        "        conv3d = K.squeeze(conv3d, axis=-1)\n",
        "        conv3d = K.reshape(conv3d,shape=(-1, self.multiheads ,self.i_shape[1]*self.i_shape[2]))\n",
        "\n",
        "        softmax_alpha = K.softmax(conv3d, axis=-1) \n",
        "        softmax_alpha = kl.Reshape(target_shape=(self.multiheads, self.i_shape[1],self.i_shape[2]))(softmax_alpha)\n",
        "\n",
        "        \n",
        "        if self.aggregate_channels==False:\n",
        "            exp_softmax_alpha = K.expand_dims(softmax_alpha, axis=-1)       \n",
        "            exp_softmax_alpha = K.permute_dimensions(exp_softmax_alpha,pattern=(0,2,3,1,4))\n",
        "   \n",
        "            x_exp = K.expand_dims(x,axis=-2)\n",
        "   \n",
        "            u = kl.Multiply()([exp_softmax_alpha, x_exp])   \n",
        "  \n",
        "            u = kl.Reshape(target_shape=(self.i_shape[1],self.i_shape[2],u.shape[-1]*u.shape[-2]))(u)\n",
        "\n",
        "        else:\n",
        "            exp_softmax_alpha = K.permute_dimensions(softmax_alpha,pattern=(0,2,3,1))\n",
        "\n",
        "            exp_softmax_alpha = K.sum(exp_softmax_alpha,axis=-1)\n",
        "\n",
        "            exp_softmax_alpha = K.expand_dims(exp_softmax_alpha, axis=-1)\n",
        "\n",
        "            u = kl.Multiply()([exp_softmax_alpha, x])   \n",
        "\n",
        "        if self.concat_input_with_scaled:\n",
        "            o = kl.Concatenate(axis=-1)([u,x])\n",
        "        else:\n",
        "            o = u\n",
        "        \n",
        "        return [o, softmax_alpha]\n",
        "\n",
        "    def compute_output_shape(self, input_shape): \n",
        "        return [self.out_features_shape, self.out_attention_maps_shape]\n",
        "\n",
        "    \n",
        "    def get_config(self):\n",
        "        return super(SoftAttention,self).get_config()\n",
        " "
      ],
      "metadata": {
        "id": "ZKaqNzSUl7Fc"
      },
      "execution_count": null,
      "outputs": []
    },
    {
      "cell_type": "code",
      "source": [
        "from tensorflow.keras.layers import Input\n",
        "\n",
        "MainInput=Input(shape=(224, 224, 3))"
      ],
      "metadata": {
        "id": "oFx5IBjCm_2d"
      },
      "execution_count": null,
      "outputs": []
    },
    {
      "cell_type": "markdown",
      "source": [
        "Convolution Layer1"
      ],
      "metadata": {
        "id": "yNBrnnwsnrUb"
      }
    },
    {
      "cell_type": "code",
      "source": [
        "from tensorflow.keras.layers import concatenate,Dense, Conv2D, MaxPooling2D, Flatten,Input,Activation,add,AveragePooling2D,GlobalAveragePooling2D,BatchNormalization,Dropout\n",
        "\n",
        "def convlayer1(input_value):\n",
        "  conv1=Conv2D(filters=64, kernel_size=(3,3), strides=(2,2),activation=\"relu\",padding=\"same\")(input_value)\n",
        "  conv1=BatchNormalization()(conv1)\n",
        "  pool1=MaxPooling2D(pool_size=(3, 3), strides=(2, 2), padding=\"same\")(conv1)\n",
        "  return pool1"
      ],
      "metadata": {
        "id": "BKU90oFUnAma"
      },
      "execution_count": null,
      "outputs": []
    },
    {
      "cell_type": "markdown",
      "source": [
        "Convolution Layer2"
      ],
      "metadata": {
        "id": "-pthn78Fn04e"
      }
    },
    {
      "cell_type": "code",
      "source": [
        "def convlayer2(input_value):\n",
        "  conv2=Conv2D(filters=64, kernel_size=(3,3),activation=\"relu\",padding=\"same\")(input_value)\n",
        "  conv2=BatchNormalization()(conv2)\n",
        "  conv2=Conv2D(filters=64, kernel_size=(3,3),activation=\"relu\",padding=\"same\")(conv2)\n",
        "  conv2=BatchNormalization()(conv2)\n",
        "\n",
        "  resnet=add([input_value,conv2])\n",
        "  resnet=Activation(\"relu\")(resnet)\n",
        "  return resnet"
      ],
      "metadata": {
        "id": "LezFWOjon35c"
      },
      "execution_count": null,
      "outputs": []
    },
    {
      "cell_type": "markdown",
      "source": [
        "Convolution Layer3"
      ],
      "metadata": {
        "id": "mGh96oNPoC4k"
      }
    },
    {
      "cell_type": "code",
      "source": [
        "def convlayer3(input_value):\n",
        "  conv3=Conv2D(filters=128, kernel_size=(3,3),activation=\"relu\",padding=\"same\")(input_value)\n",
        "  conv3=BatchNormalization()(conv3)\n",
        "  conv3=Conv2D(filters=128, kernel_size=(3,3),activation=\"relu\",padding=\"same\")(conv3)\n",
        "  conv3=BatchNormalization()(conv3)\n",
        "\n",
        "\n",
        "  skip=Conv2D(filters=128, kernel_size=(3,3),activation=\"relu\",padding=\"same\")(input_value)\n",
        "  skip=BatchNormalization()(skip)\n",
        "\n",
        "  resnet=add([skip,conv3])\n",
        "  resnet=Activation(\"relu\")(resnet)\n",
        "  return resnet"
      ],
      "metadata": {
        "id": "gIBwxBsPn7QP"
      },
      "execution_count": null,
      "outputs": []
    },
    {
      "cell_type": "markdown",
      "source": [
        "Convolution Layer4"
      ],
      "metadata": {
        "id": "iMDSInvboK9_"
      }
    },
    {
      "cell_type": "code",
      "source": [
        "def convlayer4(input_value):\n",
        "  conv4=Conv2D(filters=256, kernel_size=(3,3),activation=\"relu\",padding=\"same\")(input_value)\n",
        "  conv4=BatchNormalization()(conv4)\n",
        "  conv4=Conv2D(filters=256, kernel_size=(3,3),activation=\"relu\",padding=\"same\")(conv4)\n",
        "  conv4=BatchNormalization()(conv4)\n",
        "\n",
        "\n",
        "  skip=Conv2D(filters=256, kernel_size=(3,3),activation=\"relu\",padding=\"same\")(input_value)\n",
        "  skip=BatchNormalization()(skip)\n",
        "\n",
        "  resnet=add([skip,conv4])\n",
        "  resnet=Activation(\"relu\")(resnet)\n",
        "  return resnet"
      ],
      "metadata": {
        "id": "nyupraARoL4F"
      },
      "execution_count": null,
      "outputs": []
    },
    {
      "cell_type": "markdown",
      "source": [
        "Convolution Layer5"
      ],
      "metadata": {
        "id": "_4ipFU8nocmH"
      }
    },
    {
      "cell_type": "code",
      "source": [
        "def convlayer5(input_value):\n",
        "  conv5=Conv2D(filters=512, kernel_size=(3,3),activation=\"relu\",padding=\"same\")(input_value)\n",
        "  conv5=BatchNormalization()(conv5)\n",
        "  conv5=Conv2D(filters=512, kernel_size=(3,3),activation=\"relu\",padding=\"same\")(conv5)\n",
        "  conv5=BatchNormalization()(conv5)\n",
        "\n",
        "\n",
        "  skip=Conv2D(filters=512, kernel_size=(3,3),activation=\"relu\",padding=\"same\")(input_value)\n",
        "  skip=BatchNormalization()(skip)\n",
        "\n",
        "  resnet=add([skip,conv5])\n",
        "  resnet=Activation(\"relu\")(resnet)\n",
        "  return resnet"
      ],
      "metadata": {
        "id": "5bLSyzHnodYE"
      },
      "execution_count": null,
      "outputs": []
    },
    {
      "cell_type": "markdown",
      "source": [
        "Model Creation\n",
        "\n",
        "Block 1"
      ],
      "metadata": {
        "id": "b0tenexfojop"
      }
    },
    {
      "cell_type": "code",
      "source": [
        "block1=convlayer1(MainInput)"
      ],
      "metadata": {
        "id": "Vf-o5E23okXA"
      },
      "execution_count": null,
      "outputs": []
    },
    {
      "cell_type": "markdown",
      "source": [
        "Block 2"
      ],
      "metadata": {
        "id": "kaAG5MNRpIAq"
      }
    },
    {
      "cell_type": "code",
      "source": [
        "block2=convlayer2(block1)\n",
        "for i in range(0,2):\n",
        "  block2=convlayer2(block2)"
      ],
      "metadata": {
        "id": "CmS01QE2onX_"
      },
      "execution_count": null,
      "outputs": []
    },
    {
      "cell_type": "markdown",
      "source": [
        "Block 3"
      ],
      "metadata": {
        "id": "dzYrt2rApOsh"
      }
    },
    {
      "cell_type": "code",
      "source": [
        "maxpool=MaxPooling2D(pool_size=(2,2), padding='same')(block2)\n",
        "block3=convlayer3(maxpool)\n",
        "\n",
        "for i in range(0,3):\n",
        "  block3=convlayer3(block3)"
      ],
      "metadata": {
        "id": "bpRUx34MpNsK"
      },
      "execution_count": null,
      "outputs": []
    },
    {
      "cell_type": "markdown",
      "source": [
        "Soft Attention Layer"
      ],
      "metadata": {
        "id": "yEq5wOPWpW2w"
      }
    },
    {
      "cell_type": "code",
      "source": [
        "attention_layer2,map2 = SoftAttention(aggregate=True,m=16,\n",
        "                                      concat_with_x=False,ch=int(block3.shape[-1]),\n",
        "                                      name='soft_attention')(block3)\n",
        "attention_layer2=MaxPooling2D(pool_size=(2,2), padding='same')(attention_layer2)\n",
        "maxpool=MaxPooling2D(pool_size=(2,2), padding='same')(block3)\n",
        "\n",
        "concat2=concatenate([maxpool,attention_layer2])\n",
        "conv = Activation(\"relu\")(concat2)\n",
        "conv= Dropout(0.5)(conv)"
      ],
      "metadata": {
        "id": "qOlKEypApUn3"
      },
      "execution_count": null,
      "outputs": []
    },
    {
      "cell_type": "markdown",
      "source": [
        "Block 4"
      ],
      "metadata": {
        "id": "rm2Dlu9Lpes3"
      }
    },
    {
      "cell_type": "code",
      "source": [
        "block4=convlayer4(conv)\n",
        "for i in range(0,5):\n",
        "  block4=convlayer4(block4)"
      ],
      "metadata": {
        "id": "l6WzJg16phmq"
      },
      "execution_count": null,
      "outputs": []
    },
    {
      "cell_type": "markdown",
      "source": [
        "Block 5"
      ],
      "metadata": {
        "id": "qMYgfyjSpnMP"
      }
    },
    {
      "cell_type": "code",
      "source": [
        "maxpool=MaxPooling2D(pool_size=(2,2), padding='same')(block4)\n",
        "block5=convlayer5(maxpool)\n",
        "for i in range(0,2):\n",
        "  block5=convlayer5(block5)"
      ],
      "metadata": {
        "id": "hDcNXHm7prmU"
      },
      "execution_count": null,
      "outputs": []
    },
    {
      "cell_type": "markdown",
      "source": [
        "Output Layer"
      ],
      "metadata": {
        "id": "tSFP9PEUqjDW"
      }
    },
    {
      "cell_type": "code",
      "source": [
        "from tensorflow.keras import Model\n",
        "\n",
        "output = GlobalAveragePooling2D()(block5)\n",
        "output = Dense(1, activation='softmax')(output)\n",
        "model = Model(inputs=MainInput, outputs=output)"
      ],
      "metadata": {
        "id": "_knBkN2oqlKG"
      },
      "execution_count": null,
      "outputs": []
    },
    {
      "cell_type": "code",
      "source": [
        "model.summary()"
      ],
      "metadata": {
        "colab": {
          "base_uri": "https://localhost:8080/"
        },
        "id": "DHbVzEIeqlxI",
        "outputId": "5373ce3e-0e11-4494-8962-57729c7eba5e"
      },
      "execution_count": null,
      "outputs": [
        {
          "output_type": "stream",
          "name": "stdout",
          "text": [
            "Model: \"model\"\n",
            "__________________________________________________________________________________________________\n",
            " Layer (type)                   Output Shape         Param #     Connected to                     \n",
            "==================================================================================================\n",
            " input_1 (InputLayer)           [(None, 224, 224, 3  0           []                               \n",
            "                                )]                                                                \n",
            "                                                                                                  \n",
            " conv2d (Conv2D)                (None, 112, 112, 64  1792        ['input_1[0][0]']                \n",
            "                                )                                                                 \n",
            "                                                                                                  \n",
            " batch_normalization (BatchNorm  (None, 112, 112, 64  256        ['conv2d[0][0]']                 \n",
            " alization)                     )                                                                 \n",
            "                                                                                                  \n",
            " max_pooling2d (MaxPooling2D)   (None, 56, 56, 64)   0           ['batch_normalization[0][0]']    \n",
            "                                                                                                  \n",
            " conv2d_1 (Conv2D)              (None, 56, 56, 64)   36928       ['max_pooling2d[0][0]']          \n",
            "                                                                                                  \n",
            " batch_normalization_1 (BatchNo  (None, 56, 56, 64)  256         ['conv2d_1[0][0]']               \n",
            " rmalization)                                                                                     \n",
            "                                                                                                  \n",
            " conv2d_2 (Conv2D)              (None, 56, 56, 64)   36928       ['batch_normalization_1[0][0]']  \n",
            "                                                                                                  \n",
            " batch_normalization_2 (BatchNo  (None, 56, 56, 64)  256         ['conv2d_2[0][0]']               \n",
            " rmalization)                                                                                     \n",
            "                                                                                                  \n",
            " add (Add)                      (None, 56, 56, 64)   0           ['max_pooling2d[0][0]',          \n",
            "                                                                  'batch_normalization_2[0][0]']  \n",
            "                                                                                                  \n",
            " activation (Activation)        (None, 56, 56, 64)   0           ['add[0][0]']                    \n",
            "                                                                                                  \n",
            " conv2d_3 (Conv2D)              (None, 56, 56, 64)   36928       ['activation[0][0]']             \n",
            "                                                                                                  \n",
            " batch_normalization_3 (BatchNo  (None, 56, 56, 64)  256         ['conv2d_3[0][0]']               \n",
            " rmalization)                                                                                     \n",
            "                                                                                                  \n",
            " conv2d_4 (Conv2D)              (None, 56, 56, 64)   36928       ['batch_normalization_3[0][0]']  \n",
            "                                                                                                  \n",
            " batch_normalization_4 (BatchNo  (None, 56, 56, 64)  256         ['conv2d_4[0][0]']               \n",
            " rmalization)                                                                                     \n",
            "                                                                                                  \n",
            " add_1 (Add)                    (None, 56, 56, 64)   0           ['activation[0][0]',             \n",
            "                                                                  'batch_normalization_4[0][0]']  \n",
            "                                                                                                  \n",
            " activation_1 (Activation)      (None, 56, 56, 64)   0           ['add_1[0][0]']                  \n",
            "                                                                                                  \n",
            " conv2d_5 (Conv2D)              (None, 56, 56, 64)   36928       ['activation_1[0][0]']           \n",
            "                                                                                                  \n",
            " batch_normalization_5 (BatchNo  (None, 56, 56, 64)  256         ['conv2d_5[0][0]']               \n",
            " rmalization)                                                                                     \n",
            "                                                                                                  \n",
            " conv2d_6 (Conv2D)              (None, 56, 56, 64)   36928       ['batch_normalization_5[0][0]']  \n",
            "                                                                                                  \n",
            " batch_normalization_6 (BatchNo  (None, 56, 56, 64)  256         ['conv2d_6[0][0]']               \n",
            " rmalization)                                                                                     \n",
            "                                                                                                  \n",
            " add_2 (Add)                    (None, 56, 56, 64)   0           ['activation_1[0][0]',           \n",
            "                                                                  'batch_normalization_6[0][0]']  \n",
            "                                                                                                  \n",
            " activation_2 (Activation)      (None, 56, 56, 64)   0           ['add_2[0][0]']                  \n",
            "                                                                                                  \n",
            " max_pooling2d_1 (MaxPooling2D)  (None, 28, 28, 64)  0           ['activation_2[0][0]']           \n",
            "                                                                                                  \n",
            " conv2d_7 (Conv2D)              (None, 28, 28, 128)  73856       ['max_pooling2d_1[0][0]']        \n",
            "                                                                                                  \n",
            " batch_normalization_7 (BatchNo  (None, 28, 28, 128)  512        ['conv2d_7[0][0]']               \n",
            " rmalization)                                                                                     \n",
            "                                                                                                  \n",
            " conv2d_9 (Conv2D)              (None, 28, 28, 128)  73856       ['max_pooling2d_1[0][0]']        \n",
            "                                                                                                  \n",
            " conv2d_8 (Conv2D)              (None, 28, 28, 128)  147584      ['batch_normalization_7[0][0]']  \n",
            "                                                                                                  \n",
            " batch_normalization_9 (BatchNo  (None, 28, 28, 128)  512        ['conv2d_9[0][0]']               \n",
            " rmalization)                                                                                     \n",
            "                                                                                                  \n",
            " batch_normalization_8 (BatchNo  (None, 28, 28, 128)  512        ['conv2d_8[0][0]']               \n",
            " rmalization)                                                                                     \n",
            "                                                                                                  \n",
            " add_3 (Add)                    (None, 28, 28, 128)  0           ['batch_normalization_9[0][0]',  \n",
            "                                                                  'batch_normalization_8[0][0]']  \n",
            "                                                                                                  \n",
            " activation_3 (Activation)      (None, 28, 28, 128)  0           ['add_3[0][0]']                  \n",
            "                                                                                                  \n",
            " conv2d_10 (Conv2D)             (None, 28, 28, 128)  147584      ['activation_3[0][0]']           \n",
            "                                                                                                  \n",
            " batch_normalization_10 (BatchN  (None, 28, 28, 128)  512        ['conv2d_10[0][0]']              \n",
            " ormalization)                                                                                    \n",
            "                                                                                                  \n",
            " conv2d_12 (Conv2D)             (None, 28, 28, 128)  147584      ['activation_3[0][0]']           \n",
            "                                                                                                  \n",
            " conv2d_11 (Conv2D)             (None, 28, 28, 128)  147584      ['batch_normalization_10[0][0]'] \n",
            "                                                                                                  \n",
            " batch_normalization_12 (BatchN  (None, 28, 28, 128)  512        ['conv2d_12[0][0]']              \n",
            " ormalization)                                                                                    \n",
            "                                                                                                  \n",
            " batch_normalization_11 (BatchN  (None, 28, 28, 128)  512        ['conv2d_11[0][0]']              \n",
            " ormalization)                                                                                    \n",
            "                                                                                                  \n",
            " add_4 (Add)                    (None, 28, 28, 128)  0           ['batch_normalization_12[0][0]', \n",
            "                                                                  'batch_normalization_11[0][0]'] \n",
            "                                                                                                  \n",
            " activation_4 (Activation)      (None, 28, 28, 128)  0           ['add_4[0][0]']                  \n",
            "                                                                                                  \n",
            " conv2d_13 (Conv2D)             (None, 28, 28, 128)  147584      ['activation_4[0][0]']           \n",
            "                                                                                                  \n",
            " batch_normalization_13 (BatchN  (None, 28, 28, 128)  512        ['conv2d_13[0][0]']              \n",
            " ormalization)                                                                                    \n",
            "                                                                                                  \n",
            " conv2d_15 (Conv2D)             (None, 28, 28, 128)  147584      ['activation_4[0][0]']           \n",
            "                                                                                                  \n",
            " conv2d_14 (Conv2D)             (None, 28, 28, 128)  147584      ['batch_normalization_13[0][0]'] \n",
            "                                                                                                  \n",
            " batch_normalization_15 (BatchN  (None, 28, 28, 128)  512        ['conv2d_15[0][0]']              \n",
            " ormalization)                                                                                    \n",
            "                                                                                                  \n",
            " batch_normalization_14 (BatchN  (None, 28, 28, 128)  512        ['conv2d_14[0][0]']              \n",
            " ormalization)                                                                                    \n",
            "                                                                                                  \n",
            " add_5 (Add)                    (None, 28, 28, 128)  0           ['batch_normalization_15[0][0]', \n",
            "                                                                  'batch_normalization_14[0][0]'] \n",
            "                                                                                                  \n",
            " activation_5 (Activation)      (None, 28, 28, 128)  0           ['add_5[0][0]']                  \n",
            "                                                                                                  \n",
            " conv2d_16 (Conv2D)             (None, 28, 28, 128)  147584      ['activation_5[0][0]']           \n",
            "                                                                                                  \n",
            " batch_normalization_16 (BatchN  (None, 28, 28, 128)  512        ['conv2d_16[0][0]']              \n",
            " ormalization)                                                                                    \n",
            "                                                                                                  \n",
            " conv2d_18 (Conv2D)             (None, 28, 28, 128)  147584      ['activation_5[0][0]']           \n",
            "                                                                                                  \n",
            " conv2d_17 (Conv2D)             (None, 28, 28, 128)  147584      ['batch_normalization_16[0][0]'] \n",
            "                                                                                                  \n",
            " batch_normalization_18 (BatchN  (None, 28, 28, 128)  512        ['conv2d_18[0][0]']              \n",
            " ormalization)                                                                                    \n",
            "                                                                                                  \n",
            " batch_normalization_17 (BatchN  (None, 28, 28, 128)  512        ['conv2d_17[0][0]']              \n",
            " ormalization)                                                                                    \n",
            "                                                                                                  \n",
            " add_6 (Add)                    (None, 28, 28, 128)  0           ['batch_normalization_18[0][0]', \n",
            "                                                                  'batch_normalization_17[0][0]'] \n",
            "                                                                                                  \n",
            " activation_6 (Activation)      (None, 28, 28, 128)  0           ['add_6[0][0]']                  \n",
            "                                                                                                  \n",
            " soft_attention (SoftAttention)  [(None, 28, 28, 128  18448      ['activation_6[0][0]']           \n",
            "                                ),                                                                \n",
            "                                 (None, 16, 28, 28)                                               \n",
            "                                ]                                                                 \n",
            "                                                                                                  \n",
            " max_pooling2d_3 (MaxPooling2D)  (None, 14, 14, 128)  0          ['activation_6[0][0]']           \n",
            "                                                                                                  \n",
            " max_pooling2d_2 (MaxPooling2D)  (None, 14, 14, 128)  0          ['soft_attention[0][0]']         \n",
            "                                                                                                  \n",
            " concatenate (Concatenate)      (None, 14, 14, 256)  0           ['max_pooling2d_3[0][0]',        \n",
            "                                                                  'max_pooling2d_2[0][0]']        \n",
            "                                                                                                  \n",
            " activation_7 (Activation)      (None, 14, 14, 256)  0           ['concatenate[0][0]']            \n",
            "                                                                                                  \n",
            " dropout (Dropout)              (None, 14, 14, 256)  0           ['activation_7[0][0]']           \n",
            "                                                                                                  \n",
            " conv2d_19 (Conv2D)             (None, 14, 14, 256)  590080      ['dropout[0][0]']                \n",
            "                                                                                                  \n",
            " batch_normalization_19 (BatchN  (None, 14, 14, 256)  1024       ['conv2d_19[0][0]']              \n",
            " ormalization)                                                                                    \n",
            "                                                                                                  \n",
            " conv2d_21 (Conv2D)             (None, 14, 14, 256)  590080      ['dropout[0][0]']                \n",
            "                                                                                                  \n",
            " conv2d_20 (Conv2D)             (None, 14, 14, 256)  590080      ['batch_normalization_19[0][0]'] \n",
            "                                                                                                  \n",
            " batch_normalization_21 (BatchN  (None, 14, 14, 256)  1024       ['conv2d_21[0][0]']              \n",
            " ormalization)                                                                                    \n",
            "                                                                                                  \n",
            " batch_normalization_20 (BatchN  (None, 14, 14, 256)  1024       ['conv2d_20[0][0]']              \n",
            " ormalization)                                                                                    \n",
            "                                                                                                  \n",
            " add_7 (Add)                    (None, 14, 14, 256)  0           ['batch_normalization_21[0][0]', \n",
            "                                                                  'batch_normalization_20[0][0]'] \n",
            "                                                                                                  \n",
            " activation_8 (Activation)      (None, 14, 14, 256)  0           ['add_7[0][0]']                  \n",
            "                                                                                                  \n",
            " conv2d_22 (Conv2D)             (None, 14, 14, 256)  590080      ['activation_8[0][0]']           \n",
            "                                                                                                  \n",
            " batch_normalization_22 (BatchN  (None, 14, 14, 256)  1024       ['conv2d_22[0][0]']              \n",
            " ormalization)                                                                                    \n",
            "                                                                                                  \n",
            " conv2d_24 (Conv2D)             (None, 14, 14, 256)  590080      ['activation_8[0][0]']           \n",
            "                                                                                                  \n",
            " conv2d_23 (Conv2D)             (None, 14, 14, 256)  590080      ['batch_normalization_22[0][0]'] \n",
            "                                                                                                  \n",
            " batch_normalization_24 (BatchN  (None, 14, 14, 256)  1024       ['conv2d_24[0][0]']              \n",
            " ormalization)                                                                                    \n",
            "                                                                                                  \n",
            " batch_normalization_23 (BatchN  (None, 14, 14, 256)  1024       ['conv2d_23[0][0]']              \n",
            " ormalization)                                                                                    \n",
            "                                                                                                  \n",
            " add_8 (Add)                    (None, 14, 14, 256)  0           ['batch_normalization_24[0][0]', \n",
            "                                                                  'batch_normalization_23[0][0]'] \n",
            "                                                                                                  \n",
            " activation_9 (Activation)      (None, 14, 14, 256)  0           ['add_8[0][0]']                  \n",
            "                                                                                                  \n",
            " conv2d_25 (Conv2D)             (None, 14, 14, 256)  590080      ['activation_9[0][0]']           \n",
            "                                                                                                  \n",
            " batch_normalization_25 (BatchN  (None, 14, 14, 256)  1024       ['conv2d_25[0][0]']              \n",
            " ormalization)                                                                                    \n",
            "                                                                                                  \n",
            " conv2d_27 (Conv2D)             (None, 14, 14, 256)  590080      ['activation_9[0][0]']           \n",
            "                                                                                                  \n",
            " conv2d_26 (Conv2D)             (None, 14, 14, 256)  590080      ['batch_normalization_25[0][0]'] \n",
            "                                                                                                  \n",
            " batch_normalization_27 (BatchN  (None, 14, 14, 256)  1024       ['conv2d_27[0][0]']              \n",
            " ormalization)                                                                                    \n",
            "                                                                                                  \n",
            " batch_normalization_26 (BatchN  (None, 14, 14, 256)  1024       ['conv2d_26[0][0]']              \n",
            " ormalization)                                                                                    \n",
            "                                                                                                  \n",
            " add_9 (Add)                    (None, 14, 14, 256)  0           ['batch_normalization_27[0][0]', \n",
            "                                                                  'batch_normalization_26[0][0]'] \n",
            "                                                                                                  \n",
            " activation_10 (Activation)     (None, 14, 14, 256)  0           ['add_9[0][0]']                  \n",
            "                                                                                                  \n",
            " conv2d_28 (Conv2D)             (None, 14, 14, 256)  590080      ['activation_10[0][0]']          \n",
            "                                                                                                  \n",
            " batch_normalization_28 (BatchN  (None, 14, 14, 256)  1024       ['conv2d_28[0][0]']              \n",
            " ormalization)                                                                                    \n",
            "                                                                                                  \n",
            " conv2d_30 (Conv2D)             (None, 14, 14, 256)  590080      ['activation_10[0][0]']          \n",
            "                                                                                                  \n",
            " conv2d_29 (Conv2D)             (None, 14, 14, 256)  590080      ['batch_normalization_28[0][0]'] \n",
            "                                                                                                  \n",
            " batch_normalization_30 (BatchN  (None, 14, 14, 256)  1024       ['conv2d_30[0][0]']              \n",
            " ormalization)                                                                                    \n",
            "                                                                                                  \n",
            " batch_normalization_29 (BatchN  (None, 14, 14, 256)  1024       ['conv2d_29[0][0]']              \n",
            " ormalization)                                                                                    \n",
            "                                                                                                  \n",
            " add_10 (Add)                   (None, 14, 14, 256)  0           ['batch_normalization_30[0][0]', \n",
            "                                                                  'batch_normalization_29[0][0]'] \n",
            "                                                                                                  \n",
            " activation_11 (Activation)     (None, 14, 14, 256)  0           ['add_10[0][0]']                 \n",
            "                                                                                                  \n",
            " conv2d_31 (Conv2D)             (None, 14, 14, 256)  590080      ['activation_11[0][0]']          \n",
            "                                                                                                  \n",
            " batch_normalization_31 (BatchN  (None, 14, 14, 256)  1024       ['conv2d_31[0][0]']              \n",
            " ormalization)                                                                                    \n",
            "                                                                                                  \n",
            " conv2d_33 (Conv2D)             (None, 14, 14, 256)  590080      ['activation_11[0][0]']          \n",
            "                                                                                                  \n",
            " conv2d_32 (Conv2D)             (None, 14, 14, 256)  590080      ['batch_normalization_31[0][0]'] \n",
            "                                                                                                  \n",
            " batch_normalization_33 (BatchN  (None, 14, 14, 256)  1024       ['conv2d_33[0][0]']              \n",
            " ormalization)                                                                                    \n",
            "                                                                                                  \n",
            " batch_normalization_32 (BatchN  (None, 14, 14, 256)  1024       ['conv2d_32[0][0]']              \n",
            " ormalization)                                                                                    \n",
            "                                                                                                  \n",
            " add_11 (Add)                   (None, 14, 14, 256)  0           ['batch_normalization_33[0][0]', \n",
            "                                                                  'batch_normalization_32[0][0]'] \n",
            "                                                                                                  \n",
            " activation_12 (Activation)     (None, 14, 14, 256)  0           ['add_11[0][0]']                 \n",
            "                                                                                                  \n",
            " conv2d_34 (Conv2D)             (None, 14, 14, 256)  590080      ['activation_12[0][0]']          \n",
            "                                                                                                  \n",
            " batch_normalization_34 (BatchN  (None, 14, 14, 256)  1024       ['conv2d_34[0][0]']              \n",
            " ormalization)                                                                                    \n",
            "                                                                                                  \n",
            " conv2d_36 (Conv2D)             (None, 14, 14, 256)  590080      ['activation_12[0][0]']          \n",
            "                                                                                                  \n",
            " conv2d_35 (Conv2D)             (None, 14, 14, 256)  590080      ['batch_normalization_34[0][0]'] \n",
            "                                                                                                  \n",
            " batch_normalization_36 (BatchN  (None, 14, 14, 256)  1024       ['conv2d_36[0][0]']              \n",
            " ormalization)                                                                                    \n",
            "                                                                                                  \n",
            " batch_normalization_35 (BatchN  (None, 14, 14, 256)  1024       ['conv2d_35[0][0]']              \n",
            " ormalization)                                                                                    \n",
            "                                                                                                  \n",
            " add_12 (Add)                   (None, 14, 14, 256)  0           ['batch_normalization_36[0][0]', \n",
            "                                                                  'batch_normalization_35[0][0]'] \n",
            "                                                                                                  \n",
            " activation_13 (Activation)     (None, 14, 14, 256)  0           ['add_12[0][0]']                 \n",
            "                                                                                                  \n",
            " max_pooling2d_4 (MaxPooling2D)  (None, 7, 7, 256)   0           ['activation_13[0][0]']          \n",
            "                                                                                                  \n",
            " conv2d_37 (Conv2D)             (None, 7, 7, 512)    1180160     ['max_pooling2d_4[0][0]']        \n",
            "                                                                                                  \n",
            " batch_normalization_37 (BatchN  (None, 7, 7, 512)   2048        ['conv2d_37[0][0]']              \n",
            " ormalization)                                                                                    \n",
            "                                                                                                  \n",
            " conv2d_39 (Conv2D)             (None, 7, 7, 512)    1180160     ['max_pooling2d_4[0][0]']        \n",
            "                                                                                                  \n",
            " conv2d_38 (Conv2D)             (None, 7, 7, 512)    2359808     ['batch_normalization_37[0][0]'] \n",
            "                                                                                                  \n",
            " batch_normalization_39 (BatchN  (None, 7, 7, 512)   2048        ['conv2d_39[0][0]']              \n",
            " ormalization)                                                                                    \n",
            "                                                                                                  \n",
            " batch_normalization_38 (BatchN  (None, 7, 7, 512)   2048        ['conv2d_38[0][0]']              \n",
            " ormalization)                                                                                    \n",
            "                                                                                                  \n",
            " add_13 (Add)                   (None, 7, 7, 512)    0           ['batch_normalization_39[0][0]', \n",
            "                                                                  'batch_normalization_38[0][0]'] \n",
            "                                                                                                  \n",
            " activation_14 (Activation)     (None, 7, 7, 512)    0           ['add_13[0][0]']                 \n",
            "                                                                                                  \n",
            " conv2d_40 (Conv2D)             (None, 7, 7, 512)    2359808     ['activation_14[0][0]']          \n",
            "                                                                                                  \n",
            " batch_normalization_40 (BatchN  (None, 7, 7, 512)   2048        ['conv2d_40[0][0]']              \n",
            " ormalization)                                                                                    \n",
            "                                                                                                  \n",
            " conv2d_42 (Conv2D)             (None, 7, 7, 512)    2359808     ['activation_14[0][0]']          \n",
            "                                                                                                  \n",
            " conv2d_41 (Conv2D)             (None, 7, 7, 512)    2359808     ['batch_normalization_40[0][0]'] \n",
            "                                                                                                  \n",
            " batch_normalization_42 (BatchN  (None, 7, 7, 512)   2048        ['conv2d_42[0][0]']              \n",
            " ormalization)                                                                                    \n",
            "                                                                                                  \n",
            " batch_normalization_41 (BatchN  (None, 7, 7, 512)   2048        ['conv2d_41[0][0]']              \n",
            " ormalization)                                                                                    \n",
            "                                                                                                  \n",
            " add_14 (Add)                   (None, 7, 7, 512)    0           ['batch_normalization_42[0][0]', \n",
            "                                                                  'batch_normalization_41[0][0]'] \n",
            "                                                                                                  \n",
            " activation_15 (Activation)     (None, 7, 7, 512)    0           ['add_14[0][0]']                 \n",
            "                                                                                                  \n",
            " conv2d_43 (Conv2D)             (None, 7, 7, 512)    2359808     ['activation_15[0][0]']          \n",
            "                                                                                                  \n",
            " batch_normalization_43 (BatchN  (None, 7, 7, 512)   2048        ['conv2d_43[0][0]']              \n",
            " ormalization)                                                                                    \n",
            "                                                                                                  \n",
            " conv2d_45 (Conv2D)             (None, 7, 7, 512)    2359808     ['activation_15[0][0]']          \n",
            "                                                                                                  \n",
            " conv2d_44 (Conv2D)             (None, 7, 7, 512)    2359808     ['batch_normalization_43[0][0]'] \n",
            "                                                                                                  \n",
            " batch_normalization_45 (BatchN  (None, 7, 7, 512)   2048        ['conv2d_45[0][0]']              \n",
            " ormalization)                                                                                    \n",
            "                                                                                                  \n",
            " batch_normalization_44 (BatchN  (None, 7, 7, 512)   2048        ['conv2d_44[0][0]']              \n",
            " ormalization)                                                                                    \n",
            "                                                                                                  \n",
            " add_15 (Add)                   (None, 7, 7, 512)    0           ['batch_normalization_45[0][0]', \n",
            "                                                                  'batch_normalization_44[0][0]'] \n",
            "                                                                                                  \n",
            " activation_16 (Activation)     (None, 7, 7, 512)    0           ['add_15[0][0]']                 \n",
            "                                                                                                  \n",
            " global_average_pooling2d (Glob  (None, 512)         0           ['activation_16[0][0]']          \n",
            " alAveragePooling2D)                                                                              \n",
            "                                                                                                  \n",
            " dense (Dense)                  (None, 1)            513         ['global_average_pooling2d[0][0]'\n",
            "                                                                 ]                                \n",
            "                                                                                                  \n",
            "==================================================================================================\n",
            "Total params: 31,411,089\n",
            "Trainable params: 31,388,689\n",
            "Non-trainable params: 22,400\n",
            "__________________________________________________________________________________________________\n"
          ]
        }
      ]
    },
    {
      "cell_type": "code",
      "source": [
        "from keras import backend as K\n",
        "def recall_m(y_true, y_pred):\n",
        "\n",
        "    y_pred = K.cast(K.greater(K.clip(y_pred, 0, 1), 0.5),K.floatx())\n",
        "    true_positives = K.round(K.sum(K.clip(y_true * y_pred, 0, 1)))\n",
        "    possible_positives = K.sum(K.clip(y_true, 0, 1))\n",
        "    recall_ratio = true_positives / (possible_positives + K.epsilon())\n",
        "    return recall_ratio\n",
        "\n",
        "def precision_m(y_true, y_pred):\n",
        "\n",
        "    y_pred = K.cast(K.greater(K.clip(y_pred, 0, 1), 0.5), K.floatx())\n",
        "    true_positives = K.round(K.sum(K.clip(y_true * y_pred, 0, 1)))\n",
        "    predicted_positives = K.sum(y_pred)\n",
        "    precision_ratio = true_positives / (predicted_positives + K.epsilon())\n",
        "    return precision_ratio\n",
        "\n",
        "def f1_m(y_true, y_pred):\n",
        "    \n",
        "    precision = precision_m(y_true, y_pred)\n",
        "    recall = recall_m(y_true, y_pred)\n",
        "    return 2*((precision*recall)/(precision+recall+K.epsilon()))"
      ],
      "metadata": {
        "id": "sGlG6xXTY3Wm"
      },
      "execution_count": null,
      "outputs": []
    },
    {
      "cell_type": "code",
      "source": [
        "from keras.metrics import Precision, Recall, AUC\n",
        "\n",
        "opt1=tf.keras.optimizers.RMSprop(learning_rate=0.01,epsilon=0.1)\n",
        "model.compile(optimizer=opt1,\n",
        "             loss='binary_crossentropy',\n",
        "            #  metrics=['acc', 'AUC','Recall','Precision'])\n",
        "            metrics = ['acc', f1_m])"
      ],
      "metadata": {
        "id": "oFxWJ12wq7PA"
      },
      "execution_count": null,
      "outputs": []
    },
    {
      "cell_type": "code",
      "source": [
        "from tensorflow.keras.callbacks import ModelCheckpoint,EarlyStopping\n",
        "\n",
        "checkpoint=  ModelCheckpoint(filepath = 'ResNet34+SA.hdf5',\n",
        "                             monitor='val_accuracy',\n",
        "                             save_best_only=True,\n",
        "                             save_weights_only=True)"
      ],
      "metadata": {
        "id": "pVFVhNAItCJf"
      },
      "execution_count": null,
      "outputs": []
    },
    {
      "cell_type": "code",
      "source": [
        "Earlystop = EarlyStopping(monitor='val_loss', mode='min',patience=65, min_delta=0.001)\n",
        "history = model.fit(train_batches,\n",
        "                    steps_per_epoch=20,\n",
        "                    epochs=10,\n",
        "                    verbose=2,\n",
        "                    validation_data=test_batches,\n",
        "                    validation_steps=8,\n",
        "                    callbacks=[checkpoint,Earlystop])"
      ],
      "metadata": {
        "colab": {
          "base_uri": "https://localhost:8080/"
        },
        "id": "83xt-LEHtDDQ",
        "outputId": "01314cef-5310-4d32-b6c5-cebabdf1499f"
      },
      "execution_count": null,
      "outputs": [
        {
          "output_type": "stream",
          "name": "stdout",
          "text": [
            "Epoch 1/10\n",
            "WARNING:tensorflow:Can save best model only with val_accuracy available, skipping.\n",
            "20/20 - 154s - loss: 1.2036 - acc: 0.6094 - f1_m: 0.7509 - val_loss: 329349.9062 - val_acc: 0.3750 - val_f1_m: 0.3750 - 154s/epoch - 8s/step\n",
            "Epoch 2/10\n",
            "WARNING:tensorflow:Can save best model only with val_accuracy available, skipping.\n",
            "20/20 - 57s - loss: 0.9432 - acc: 0.5962 - f1_m: 0.7366 - val_loss: 4515.7329 - val_acc: 0.3750 - val_f1_m: 0.3750 - 57s/epoch - 3s/step\n",
            "Epoch 3/10\n",
            "WARNING:tensorflow:Can save best model only with val_accuracy available, skipping.\n",
            "20/20 - 52s - loss: 0.7113 - acc: 0.6058 - f1_m: 0.7501 - val_loss: 544.2317 - val_acc: 0.3750 - val_f1_m: 0.3750 - 52s/epoch - 3s/step\n",
            "Epoch 4/10\n",
            "WARNING:tensorflow:Can save best model only with val_accuracy available, skipping.\n",
            "20/20 - 50s - loss: 0.6901 - acc: 0.6058 - f1_m: 0.7528 - val_loss: 20.2648 - val_acc: 0.3750 - val_f1_m: 0.3750 - 50s/epoch - 2s/step\n",
            "Epoch 5/10\n",
            "WARNING:tensorflow:Can save best model only with val_accuracy available, skipping.\n",
            "20/20 - 49s - loss: 0.6754 - acc: 0.6122 - f1_m: 0.7527 - val_loss: 3.1498 - val_acc: 0.3750 - val_f1_m: 0.3750 - 49s/epoch - 2s/step\n",
            "Epoch 6/10\n",
            "WARNING:tensorflow:Can save best model only with val_accuracy available, skipping.\n",
            "20/20 - 48s - loss: 0.6050 - acc: 0.5929 - f1_m: 0.7360 - val_loss: 5.7602 - val_acc: 0.3750 - val_f1_m: 0.3750 - 48s/epoch - 2s/step\n",
            "Epoch 7/10\n",
            "WARNING:tensorflow:Can save best model only with val_accuracy available, skipping.\n",
            "20/20 - 50s - loss: 0.6360 - acc: 0.6281 - f1_m: 0.7628 - val_loss: 1.4136 - val_acc: 0.3750 - val_f1_m: 0.3750 - 50s/epoch - 2s/step\n",
            "Epoch 8/10\n",
            "WARNING:tensorflow:Can save best model only with val_accuracy available, skipping.\n",
            "20/20 - 49s - loss: 0.6662 - acc: 0.6062 - f1_m: 0.7459 - val_loss: 0.9623 - val_acc: 0.3750 - val_f1_m: 0.3750 - 49s/epoch - 2s/step\n",
            "Epoch 9/10\n",
            "WARNING:tensorflow:Can save best model only with val_accuracy available, skipping.\n",
            "20/20 - 48s - loss: 0.5722 - acc: 0.6058 - f1_m: 0.7401 - val_loss: 1.7955 - val_acc: 0.3750 - val_f1_m: 0.3750 - 48s/epoch - 2s/step\n",
            "Epoch 10/10\n",
            "WARNING:tensorflow:Can save best model only with val_accuracy available, skipping.\n",
            "20/20 - 48s - loss: 0.5960 - acc: 0.5929 - f1_m: 0.7345 - val_loss: 1.1863 - val_acc: 0.3750 - val_f1_m: 0.3750 - 48s/epoch - 2s/step\n"
          ]
        }
      ]
    }
  ]
}