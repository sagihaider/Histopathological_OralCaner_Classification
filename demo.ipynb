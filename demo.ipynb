{
  "nbformat": 4,
  "nbformat_minor": 0,
  "metadata": {
    "colab": {
      "name": "demo.ipynb",
      "provenance": [],
      "include_colab_link": true
    },
    "kernelspec": {
      "name": "python3",
      "display_name": "Python 3"
    },
    "language_info": {
      "name": "python"
    },
    "accelerator": "GPU"
  },
  "cells": [
    {
      "cell_type": "markdown",
      "metadata": {
        "id": "view-in-github",
        "colab_type": "text"
      },
      "source": [
        "<a href=\"https://colab.research.google.com/github/sagihaider/Histopathological_OralCaner_Classification/blob/main/demo.ipynb\" target=\"_parent\"><img src=\"https://colab.research.google.com/assets/colab-badge.svg\" alt=\"Open In Colab\"/></a>"
      ]
    },
    {
      "cell_type": "code",
      "source": [
        "!wget https://md-datasets-cache-zipfiles-prod.s3.eu-west-1.amazonaws.com/ftmp4cvtmb-1.zip "
      ],
      "metadata": {
        "colab": {
          "base_uri": "https://localhost:8080/"
        },
        "id": "pPTeU0anFK4i",
        "outputId": "68d14ba9-60d9-4793-d006-0961ca8d1b4a"
      },
      "execution_count": 1,
      "outputs": [
        {
          "output_type": "stream",
          "name": "stdout",
          "text": [
            "--2022-01-03 00:06:35--  https://md-datasets-cache-zipfiles-prod.s3.eu-west-1.amazonaws.com/ftmp4cvtmb-1.zip\n",
            "Resolving md-datasets-cache-zipfiles-prod.s3.eu-west-1.amazonaws.com (md-datasets-cache-zipfiles-prod.s3.eu-west-1.amazonaws.com)... 52.218.98.16\n",
            "Connecting to md-datasets-cache-zipfiles-prod.s3.eu-west-1.amazonaws.com (md-datasets-cache-zipfiles-prod.s3.eu-west-1.amazonaws.com)|52.218.98.16|:443... connected.\n",
            "HTTP request sent, awaiting response... 200 OK\n",
            "Length: 3098632250 (2.9G) [application/octet-stream]\n",
            "Saving to: ‘ftmp4cvtmb-1.zip’\n",
            "\n",
            "ftmp4cvtmb-1.zip    100%[===================>]   2.89G  28.1MB/s    in 1m 47s  \n",
            "\n",
            "2022-01-03 00:08:23 (27.5 MB/s) - ‘ftmp4cvtmb-1.zip’ saved [3098632250/3098632250]\n",
            "\n"
          ]
        }
      ]
    },
    {
      "cell_type": "code",
      "source": [
        "import os\n",
        "import glob\n",
        "import shutil\n",
        "\n",
        "os.rename('/content/ftmp4cvtmb-1.zip', '/content/data.zip')\n",
        "from zipfile import ZipFile\n",
        "file_name = \"/content/data.zip\"\n",
        "with ZipFile(file_name, 'r') as zip:\n",
        "  zip.extractall()\n",
        "  print('done')"
      ],
      "metadata": {
        "colab": {
          "base_uri": "https://localhost:8080/"
        },
        "id": "8BTjaRc_GT9q",
        "outputId": "c298e767-7e7e-4db3-8225-b9a698c78899"
      },
      "execution_count": 2,
      "outputs": [
        {
          "output_type": "stream",
          "name": "stdout",
          "text": [
            "done\n"
          ]
        }
      ]
    },
    {
      "cell_type": "code",
      "source": [
        "base_dir = '/content/data_merged'\n",
        "if not os.path.exists(base_dir): os.mkdir(base_dir)\n",
        "\n",
        "normal_dir = os.path.join(base_dir, 'normal')\n",
        "os.mkdir(normal_dir)\n",
        "\n",
        "ocss_dir = os.path.join(base_dir, 'oscc')\n",
        "os.mkdir(ocss_dir)"
      ],
      "metadata": {
        "id": "q-shw5XgI-Kt"
      },
      "execution_count": 3,
      "outputs": []
    },
    {
      "cell_type": "code",
      "source": [
        "src_dir = \"/content/First Set/100x Normal Oral Cavity Histopathological Images\"\n",
        "dst_dir = \"/content/data_merged/normal\"\n",
        "for jpgfile in glob.iglob(os.path.join(src_dir, \"*.jpg\")):\n",
        "    shutil.copy(jpgfile, dst_dir)\n",
        "\n",
        "src_dir = \"/content/Second Set/400x Normal Oral Cavity Histopathological Images\"\n",
        "dst_dir = \"/content/data_merged/normal\"\n",
        "for jpgfile in glob.iglob(os.path.join(src_dir, \"*.jpg\")):\n",
        "    shutil.copy(jpgfile, dst_dir)\n",
        "\n",
        "src_dir = \"/content/First Set/100x OSCC Histopathological Images\"\n",
        "dst_dir = \"/content/data_merged/oscc\"\n",
        "for jpgfile in glob.iglob(os.path.join(src_dir, \"*.jpg\")):\n",
        "    shutil.copy(jpgfile, dst_dir)\n",
        "\n",
        "src_dir = \"/content/First Set/400x OSCC Histopathological Images\"\n",
        "dst_dir = \"/content/data_merged/oscc\"\n",
        "for jpgfile in glob.iglob(os.path.join(src_dir, \"*.jpg\")):\n",
        "    shutil.copy(jpgfile, dst_dir)\n"
      ],
      "metadata": {
        "id": "BYy0qHPxI67s"
      },
      "execution_count": 4,
      "outputs": []
    },
    {
      "cell_type": "code",
      "source": [
        "print('total training normal images:', len(os.listdir('/content/data_merged/normal/')))\n",
        "print('total training oscc images:', len(os.listdir('/content/data_merged/oscc/')))"
      ],
      "metadata": {
        "colab": {
          "base_uri": "https://localhost:8080/"
        },
        "id": "4ph0CdhrYXWF",
        "outputId": "509c1f80-feb9-4279-b44c-7692cd605ea4"
      },
      "execution_count": 5,
      "outputs": [
        {
          "output_type": "stream",
          "name": "stdout",
          "text": [
            "total training normal images: 290\n",
            "total training oscc images: 439\n"
          ]
        }
      ]
    },
    {
      "cell_type": "code",
      "source": [
        "import os\n",
        "path='/content/data_merged/normal/'\n",
        "for count, filename in enumerate(os.listdir(path)): \n",
        "  dst =\"normal\" + str(count) + \".jpg\"\n",
        "  src =path+ filename \n",
        "  dst =path+ dst \n",
        "  # rename() function will \n",
        "  # rename all the files \n",
        "  os.rename(src, dst)\n",
        "\n",
        "path='/content/data_merged/oscc/'\n",
        "for count, filename in enumerate(os.listdir(path)): \n",
        "  dst =\"oscc\" + str(count) + \".jpg\"\n",
        "  src =path+ filename \n",
        "  dst =path+ dst \n",
        "  # rename() function will \n",
        "  # rename all the files \n",
        "  os.rename(src, dst)"
      ],
      "metadata": {
        "id": "OvEry8JJUiUc"
      },
      "execution_count": 6,
      "outputs": []
    },
    {
      "cell_type": "code",
      "source": [
        "# Initiate base directory\n",
        "# shutil.rmtree('/content/CancerData')\n",
        "final_dir = '/content/CancerData'\n",
        "os.mkdir(final_dir)"
      ],
      "metadata": {
        "id": "lP75MpfbVQU_"
      },
      "execution_count": 7,
      "outputs": []
    },
    {
      "cell_type": "code",
      "source": [
        "# Create directories\n",
        "train_dir = os.path.join(final_dir, 'train')\n",
        "os.mkdir(train_dir)\n",
        "\n",
        "validation_dir = os.path.join(final_dir, 'validation')\n",
        "os.mkdir(validation_dir)\n",
        "\n",
        "# test_dir = os.path.join(final_dir, 'test')\n",
        "# os.mkdir(test_dir)\n",
        "\n",
        "train_normal_dir = os.path.join(train_dir, 'normal')\n",
        "os.mkdir(train_normal_dir)\n",
        "\n",
        "train_oscc_dir = os.path.join(train_dir, 'oscc')\n",
        "os.mkdir(train_oscc_dir)\n",
        "\n",
        "validation_normal_dir = os.path.join(validation_dir, 'normal')\n",
        "os.mkdir(validation_normal_dir)\n",
        "\n",
        "validation_oscc_dir = os.path.join(validation_dir, 'oscc')\n",
        "os.mkdir(validation_oscc_dir)\n",
        "\n",
        "# test_normal_dir = os.path.join(test_dir, 'normal')\n",
        "# os.mkdir(test_normal_dir)\n",
        "\n",
        "# test_oscc_dir = os.path.join(test_dir, 'oscc')\n",
        "# os.mkdir(test_oscc_dir)"
      ],
      "metadata": {
        "id": "5-zTdiVEVdHq"
      },
      "execution_count": 8,
      "outputs": []
    },
    {
      "cell_type": "code",
      "source": [
        "original_dataset_dir_oscc = '/content/data_merged/oscc'\n",
        "original_dataset_dir_normal = '/content/data_merged/normal'\n",
        "\n",
        "import shutil\n",
        "fnames = ['oscc{}.jpg'.format(i) for i in range(320)]\n",
        "for fname in fnames:\n",
        "    src = os.path.join(original_dataset_dir_oscc, fname)\n",
        "    dst = os.path.join(train_oscc_dir, fname)\n",
        "    #print(src,dst)\n",
        "    shutil.copyfile(src, dst)\n",
        "    \n",
        "fnames = ['oscc{}.jpg'.format(i) for i in range(320, 420)]\n",
        "for fname in fnames:\n",
        "    src = os.path.join(original_dataset_dir_oscc, fname)\n",
        "    dst = os.path.join(validation_oscc_dir, fname)\n",
        "    shutil.copyfile(src, dst)\n",
        "\n",
        "# fnames = ['oscc{}.jpg'.format(i) for i in range(373, 439)]\n",
        "# for fname in fnames:\n",
        "#     src = os.path.join(original_dataset_dir_oscc, fname)\n",
        "#     dst = os.path.join(test_oscc_dir, fname)\n",
        "#     shutil.copyfile(src, dst)\n",
        "\n",
        "fnames = ['normal{}.jpg'.format(i) for i in range(200)]\n",
        "for fname in fnames:\n",
        "    src = os.path.join(original_dataset_dir_normal, fname)\n",
        "    dst = os.path.join(train_normal_dir, fname)\n",
        "    shutil.copyfile(src, dst)\n",
        "\n",
        "fnames = ['normal{}.jpg'.format(i) for i in range(200, 280)]\n",
        "for fname in fnames:\n",
        "    src = os.path.join(original_dataset_dir_normal, fname)\n",
        "    dst = os.path.join(validation_normal_dir, fname)\n",
        "    shutil.copyfile(src, dst)\n",
        "\n",
        "# fnames = ['normal{}.jpg'.format(i) for i in range(246, 290)]\n",
        "# for fname in fnames:\n",
        "#     src = os.path.join(original_dataset_dir_normal, fname)\n",
        "#     dst = os.path.join(test_normal_dir, fname)\n",
        "#     shutil.copyfile(src, dst)"
      ],
      "metadata": {
        "id": "CCk9FYZUWP7b"
      },
      "execution_count": 9,
      "outputs": []
    },
    {
      "cell_type": "code",
      "source": [
        "print('total training oscc images:', len(os.listdir(train_oscc_dir)))\n",
        "print('total training normal images:', len(os.listdir(train_normal_dir)))\n",
        "\n",
        "print('total validation oscc images:', len(os.listdir(validation_oscc_dir)))\n",
        "print('total validation normal images:', len(os.listdir(validation_normal_dir)))\n",
        "\n",
        "# print('total test oscc images:', len(os.listdir(test_oscc_dir)))\n",
        "# print('total test normal images:', len(os.listdir(test_normal_dir)))"
      ],
      "metadata": {
        "colab": {
          "base_uri": "https://localhost:8080/"
        },
        "id": "vBfZ7BhaXvX_",
        "outputId": "289e6edf-e573-4141-a167-3a8d98cb9ba6"
      },
      "execution_count": 10,
      "outputs": [
        {
          "output_type": "stream",
          "name": "stdout",
          "text": [
            "total training oscc images: 320\n",
            "total training normal images: 200\n",
            "total validation oscc images: 100\n",
            "total validation normal images: 80\n"
          ]
        }
      ]
    },
    {
      "cell_type": "code",
      "source": [
        "# Create and Compile the Model\n",
        "from keras import layers\n",
        "from keras import models\n",
        "from tensorflow.keras import optimizers\n",
        "\n",
        "model = models.Sequential()\n",
        "model.add(layers.Conv2D(32, (3, 3), activation='relu', input_shape=(150, 150, 3)))\n",
        "model.add(layers.MaxPooling2D((2, 2)))\n",
        "model.add(layers.Conv2D(64, (3, 3), activation='relu'))\n",
        "model.add(layers.MaxPooling2D((2, 2)))\n",
        "model.add(layers.Conv2D(128, (3, 3), activation='relu'))\n",
        "model.add(layers.MaxPooling2D((2, 2)))\n",
        "model.add(layers.Conv2D(128, (3, 3), activation='relu'))\n",
        "model.add(layers.MaxPooling2D((2, 2)))\n",
        "model.add(layers.Flatten())\n",
        "model.add(layers.Dropout(0.5))\n",
        "model.add(layers.Dense(512, activation='relu'))\n",
        "model.add(layers.Dense(1, activation='sigmoid'))\n",
        "model.summary()\n",
        "\n",
        "model.compile(loss='binary_crossentropy', \n",
        "              optimizer=optimizers.RMSprop(lr=1e-4),\n",
        "              metrics=['acc'])"
      ],
      "metadata": {
        "colab": {
          "base_uri": "https://localhost:8080/"
        },
        "id": "UzpMzUX7ZhQG",
        "outputId": "2002cd95-0e4d-4b02-fed0-30b339b3da5e"
      },
      "execution_count": 19,
      "outputs": [
        {
          "output_type": "stream",
          "name": "stdout",
          "text": [
            "Model: \"sequential_1\"\n",
            "_________________________________________________________________\n",
            " Layer (type)                Output Shape              Param #   \n",
            "=================================================================\n",
            " conv2d_4 (Conv2D)           (None, 148, 148, 32)      896       \n",
            "                                                                 \n",
            " max_pooling2d_4 (MaxPooling  (None, 74, 74, 32)       0         \n",
            " 2D)                                                             \n",
            "                                                                 \n",
            " conv2d_5 (Conv2D)           (None, 72, 72, 64)        18496     \n",
            "                                                                 \n",
            " max_pooling2d_5 (MaxPooling  (None, 36, 36, 64)       0         \n",
            " 2D)                                                             \n",
            "                                                                 \n",
            " conv2d_6 (Conv2D)           (None, 34, 34, 128)       73856     \n",
            "                                                                 \n",
            " max_pooling2d_6 (MaxPooling  (None, 17, 17, 128)      0         \n",
            " 2D)                                                             \n",
            "                                                                 \n",
            " conv2d_7 (Conv2D)           (None, 15, 15, 128)       147584    \n",
            "                                                                 \n",
            " max_pooling2d_7 (MaxPooling  (None, 7, 7, 128)        0         \n",
            " 2D)                                                             \n",
            "                                                                 \n",
            " flatten_1 (Flatten)         (None, 6272)              0         \n",
            "                                                                 \n",
            " dropout_1 (Dropout)         (None, 6272)              0         \n",
            "                                                                 \n",
            " dense_2 (Dense)             (None, 512)               3211776   \n",
            "                                                                 \n",
            " dense_3 (Dense)             (None, 1)                 513       \n",
            "                                                                 \n",
            "=================================================================\n",
            "Total params: 3,453,121\n",
            "Trainable params: 3,453,121\n",
            "Non-trainable params: 0\n",
            "_________________________________________________________________\n"
          ]
        },
        {
          "output_type": "stream",
          "name": "stderr",
          "text": [
            "/usr/local/lib/python3.7/dist-packages/keras/optimizer_v2/rmsprop.py:130: UserWarning: The `lr` argument is deprecated, use `learning_rate` instead.\n",
            "  super(RMSprop, self).__init__(name, **kwargs)\n"
          ]
        }
      ]
    },
    {
      "cell_type": "code",
      "source": [
        "from keras.preprocessing.image import ImageDataGenerator\n",
        "\n",
        "train_datagen = ImageDataGenerator(rescale=1./255)\n",
        "test_datagen = ImageDataGenerator(rescale=1./255)\n",
        "\n",
        "train_generator = train_datagen.flow_from_directory(train_dir,\n",
        "                                                    target_size=(150, 150), \n",
        "                                                    batch_size=20,\n",
        "                                                    class_mode='binary')\n",
        "\n",
        "validation_generator = test_datagen.flow_from_directory(validation_dir,\n",
        "                                                        target_size=(150, 150),\n",
        "                                                        batch_size=20,\n",
        "                                                        class_mode='binary')"
      ],
      "metadata": {
        "colab": {
          "base_uri": "https://localhost:8080/"
        },
        "id": "ddXsI1Y_a8xx",
        "outputId": "e565c0ce-f371-481b-c886-861ce9ab3e6c"
      },
      "execution_count": 30,
      "outputs": [
        {
          "output_type": "stream",
          "name": "stdout",
          "text": [
            "Found 520 images belonging to 2 classes.\n",
            "Found 180 images belonging to 2 classes.\n"
          ]
        }
      ]
    },
    {
      "cell_type": "code",
      "source": [
        "history = model.fit(train_generator,\n",
        "                              steps_per_epoch=20,\n",
        "                              epochs=10,\n",
        "                              validation_data=validation_generator,\n",
        "                              validation_steps=8)"
      ],
      "metadata": {
        "colab": {
          "base_uri": "https://localhost:8080/"
        },
        "id": "5FvvM7NYbLa-",
        "outputId": "004251ba-0504-4f24-e672-d7ff48f684a1"
      },
      "execution_count": 37,
      "outputs": [
        {
          "output_type": "stream",
          "name": "stdout",
          "text": [
            "Epoch 1/10\n",
            "20/20 [==============================] - 55s 3s/step - loss: 0.3815 - acc: 0.8300 - val_loss: 0.3415 - val_acc: 0.8813\n",
            "Epoch 2/10\n",
            "20/20 [==============================] - 53s 3s/step - loss: 0.3277 - acc: 0.8650 - val_loss: 0.3668 - val_acc: 0.8188\n",
            "Epoch 3/10\n",
            "20/20 [==============================] - 53s 3s/step - loss: 0.3900 - acc: 0.8225 - val_loss: 0.3524 - val_acc: 0.8250\n",
            "Epoch 4/10\n",
            "20/20 [==============================] - 53s 3s/step - loss: 0.3654 - acc: 0.8375 - val_loss: 0.3235 - val_acc: 0.8813\n",
            "Epoch 5/10\n",
            "20/20 [==============================] - 52s 3s/step - loss: 0.3420 - acc: 0.8500 - val_loss: 0.3553 - val_acc: 0.8625\n",
            "Epoch 6/10\n",
            "20/20 [==============================] - 53s 3s/step - loss: 0.3714 - acc: 0.8425 - val_loss: 0.3503 - val_acc: 0.8313\n",
            "Epoch 7/10\n",
            "20/20 [==============================] - 53s 3s/step - loss: 0.3276 - acc: 0.8550 - val_loss: 0.3013 - val_acc: 0.9000\n",
            "Epoch 8/10\n",
            "20/20 [==============================] - 53s 3s/step - loss: 0.3105 - acc: 0.8775 - val_loss: 0.2730 - val_acc: 0.9125\n",
            "Epoch 9/10\n",
            "20/20 [==============================] - 53s 3s/step - loss: 0.3207 - acc: 0.8725 - val_loss: 0.4180 - val_acc: 0.8062\n",
            "Epoch 10/10\n",
            "20/20 [==============================] - 53s 3s/step - loss: 0.2965 - acc: 0.8775 - val_loss: 0.2991 - val_acc: 0.9000\n"
          ]
        }
      ]
    },
    {
      "cell_type": "code",
      "source": [
        "import matplotlib.pyplot as plt\n",
        "\n",
        "acc = history.history['acc']\n",
        "val_acc = history.history['val_acc']\n",
        "loss = history.history['loss']\n",
        "val_loss = history.history['val_loss']\n",
        "\n",
        "epochs = range(1, len(acc) + 1)\n",
        "\n",
        "plt.plot(epochs, acc, 'bo', label='Training acc')\n",
        "plt.plot(epochs, val_acc, 'b', label='Validation acc')\n",
        "plt.title('Training and validation accuracy')\n",
        "plt.legend()\n",
        "\n",
        "plt.figure()\n",
        "\n",
        "plt.plot(epochs, loss, 'bo', label='Training loss')\n",
        "plt.plot(epochs, val_loss, 'b', label='Validation loss')\n",
        "plt.title('Training and validation loss')\n",
        "plt.legend()\n",
        "\n",
        "plt.show()"
      ],
      "metadata": {
        "colab": {
          "base_uri": "https://localhost:8080/",
          "height": 545
        },
        "id": "9Cu-wQhNcdOy",
        "outputId": "5f5dfa70-fb1b-4271-a286-1d8851e76df2"
      },
      "execution_count": 38,
      "outputs": [
        {
          "output_type": "display_data",
          "data": {
            "image/png": "[encoded data removed]",
            "text/plain": [
              "<Figure size 432x288 with 1 Axes>"
            ]
          },
          "metadata": {
            "needs_background": "light"
          }
        },
        {
          "output_type": "display_data",
          "data": {
            "image/png": "[encoded data removed]",
            "text/plain": [
              "<Figure size 432x288 with 1 Axes>"
            ]
          },
          "metadata": {
            "needs_background": "light"
          }
        }
      ]
    }
  ]
}